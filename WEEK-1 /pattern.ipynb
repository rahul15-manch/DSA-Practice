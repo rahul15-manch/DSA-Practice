{
 "cells": [
  {
   "cell_type": "code",
   "execution_count": 45,
   "id": "4c0abb9f",
   "metadata": {},
   "outputs": [
    {
     "name": "stdout",
     "output_type": "stream",
     "text": [
      "* * *         \n",
      "*   *         \n",
      "* * *         \n",
      "* *           \n",
      "*   *         \n",
      "*     *       \n",
      "*       *     \n"
     ]
    }
   ],
   "source": [
    "rows=7\n",
    "for i in range(rows):\n",
    "    for j in range(rows):\n",
    "        if j==0 and i>0 and i<rows:\n",
    "            print(\"*\",end=\" \")\n",
    "        elif i==0 and j>=0 and j<=2:\n",
    "            print(\"*\",end=\" \")\n",
    "        elif i==rows-6 and j==rows-5:\n",
    "            print(\"*\",end=\" \")\n",
    "        elif i==rows-5 and j>0 and j<=2:\n",
    "            print(\"*\",end=\" \")\n",
    "        elif i==rows-4 and j==rows-6:\n",
    "            print(\"*\",end=\" \")\n",
    "        elif i==rows-3 and j==rows-5:\n",
    "            print(\"*\",end=\" \")\n",
    "        elif i==rows-2 and j==rows-4:\n",
    "            print(\"*\",end=\" \")\n",
    "        elif i==rows-1 and j==rows-3:\n",
    "            print(\"*\",end=\" \")\n",
    "        else:\n",
    "            print(\" \",end=\" \")\n",
    "    print()"
   ]
  },
  {
   "cell_type": "code",
   "execution_count": 46,
   "id": "a0841ecc",
   "metadata": {},
   "outputs": [
    {
     "name": "stdout",
     "output_type": "stream",
     "text": [
      "  * *         \n",
      "*     *       \n",
      "*     *       \n",
      "* * * *       \n",
      "*     *       \n",
      "*     *       \n",
      "*     *       \n"
     ]
    }
   ],
   "source": [
    "rows=7\n",
    "for i in range(rows):\n",
    "    for j in range(rows):\n",
    "        if i==0 and j>0 and j<=rows-5:\n",
    "            print(\"*\",end=\" \")\n",
    "        elif (i>=1 and i<rows) and j==0 :\n",
    "            print(\"*\",end=\" \")\n",
    "        elif (i>=1 and i<rows) and j==rows-4:\n",
    "            print(\"*\",end=\" \")\n",
    "        elif i==rows//2 and j>0 and j<=rows-5:\n",
    "            print(\"*\",end=\" \")\n",
    "        else:\n",
    "            print(\" \",end=\" \")\n",
    "    print()\n",
    "        \n"
   ]
  },
  {
   "cell_type": "code",
   "execution_count": 37,
   "id": "dbf140d4",
   "metadata": {},
   "outputs": [
    {
     "name": "stdout",
     "output_type": "stream",
     "text": [
      "*       *     \n",
      "*       *     \n",
      "*       *     \n",
      "* * * * *     \n",
      "*       *     \n",
      "*       *     \n",
      "*       *     \n"
     ]
    }
   ],
   "source": [
    "rows=7\n",
    "for i in range(rows):\n",
    "    for j in range(rows):\n",
    "        if j==0 and i>=0 and i<rows:\n",
    "            print(\"*\",end=\" \")\n",
    "        elif j==rows-3 and (i>=0 and i<=rows):\n",
    "            print(\"*\",end=\" \")\n",
    "        elif i==rows//2 and j>0 and j<=rows-3:\n",
    "            print(\"*\",end=\" \")\n",
    "        else:\n",
    "            print(\" \",end=\" \")\n",
    "    print()"
   ]
  },
  {
   "cell_type": "code",
   "execution_count": 63,
   "id": "bde67c39",
   "metadata": {},
   "outputs": [
    {
     "name": "stdout",
     "output_type": "stream",
     "text": [
      "*     *       \n",
      "*     *       \n",
      "*     *       \n",
      "*     *       \n",
      "*     *       \n",
      "*     *       \n",
      "  * *         \n"
     ]
    }
   ],
   "source": [
    "rows=7\n",
    "for i in range(rows):\n",
    "    for j in range(rows):\n",
    "        if j==0 and i>=0 and i<rows-1:\n",
    "            print(\"*\",end=\" \")\n",
    "        elif j==3 and (i>=0 and i<rows-1):\n",
    "            print(\"*\",end=\" \")\n",
    "        elif i==rows-1 and (j>0 and j<rows-4):\n",
    "            print(\"*\",end=\" \")\n",
    "        else:\n",
    "            print(\" \", end=\" \")\n",
    "\n",
    "    print()"
   ]
  },
  {
   "cell_type": "code",
   "execution_count": 6,
   "id": "863c6c96",
   "metadata": {},
   "outputs": [
    {
     "name": "stdout",
     "output_type": "stream",
     "text": [
      "*             \n",
      "*             \n",
      "*             \n",
      "*             \n",
      "*             \n",
      "*             \n",
      "* * * * * * * \n"
     ]
    }
   ],
   "source": [
    "rows=7\n",
    "for i in range(rows):\n",
    "    for j in range(rows):\n",
    "        if j==0 and i>=0 and i<rows:\n",
    "            print(\"*\",end=\" \")\n",
    "        elif i==rows-1 and j>=0 and j<rows:\n",
    "            print(\"*\",end=\" \")\n",
    "        else:\n",
    "            print(\" \",end=\" \")\n",
    "    print()"
   ]
  },
  {
   "cell_type": "code",
   "execution_count": 7,
   "id": "61a4cad5",
   "metadata": {},
   "outputs": [
    {
     "name": "stdout",
     "output_type": "stream",
     "text": [
      "      *       \n",
      "    *   *     \n",
      "    *   *     \n",
      "    *         \n",
      "*   *         \n",
      "*   *         \n",
      "  *           \n"
     ]
    }
   ],
   "source": [
    "rows=7\n",
    "for i in range(rows):\n",
    "    for j in range(rows):\n",
    "        if i==0 and j==rows-4:\n",
    "            print(\"*\",end=\" \")\n",
    "        elif (i>0 and i<=5 and  j==2):\n",
    "            print(\"*\",end=\" \")\n",
    "        elif i>=4 and i<6 and j==0:\n",
    "            print(\"*\",end=\" \")\n",
    "        elif i==6 and j==1:\n",
    "            print(\"*\",end=\" \")\n",
    "        elif i>0 and i<3 and j==4:\n",
    "            print(\"*\",end=\" \")\n",
    "        else:\n",
    "            print(\" \",end=\" \")\n",
    "    print()"
   ]
  },
  {
   "cell_type": "code",
   "execution_count": null,
   "id": "693d5372",
   "metadata": {},
   "outputs": [],
   "source": []
  }
 ],
 "metadata": {
  "kernelspec": {
   "display_name": "Python 3",
   "language": "python",
   "name": "python3"
  },
  "language_info": {
   "codemirror_mode": {
    "name": "ipython",
    "version": 3
   },
   "file_extension": ".py",
   "mimetype": "text/x-python",
   "name": "python",
   "nbconvert_exporter": "python",
   "pygments_lexer": "ipython3",
   "version": "3.10.18"
  }
 },
 "nbformat": 4,
 "nbformat_minor": 5
}
