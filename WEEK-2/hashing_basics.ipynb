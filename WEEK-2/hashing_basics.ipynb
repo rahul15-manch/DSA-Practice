{
 "cells": [
  {
   "cell_type": "code",
   "execution_count": 1,
   "id": "1f4dbae9",
   "metadata": {},
   "outputs": [
    {
     "data": {
      "text/plain": [
       "{1: 1, 5: 2, 6: 1, 7: 1, 2: 1}"
      ]
     },
     "execution_count": 1,
     "metadata": {},
     "output_type": "execute_result"
    }
   ],
   "source": [
    "nums=[1,5,6,7,5,2]\n",
    "def count_freq(nums):\n",
    "    nums_map={}\n",
    "    for i in range(len(nums)):\n",
    "        if nums[i] in nums_map:\n",
    "            nums_map[nums[i]]+=1\n",
    "        else:\n",
    "            nums_map[nums[i]]=1\n",
    "    return nums_map\n",
    "count_freq(nums)"
   ]
  },
  {
   "cell_type": "code",
   "execution_count": 2,
   "id": "ee879557",
   "metadata": {},
   "outputs": [
    {
     "name": "stdout",
     "output_type": "stream",
     "text": [
      "{1: 1, 5: 2, 6: 1, 7: 1, 2: 1}\n"
     ]
    }
   ],
   "source": [
    "nums = [1, 5, 6, 7, 5, 2]\n",
    "\n",
    "def count_freq(nums):\n",
    "    freq = {}\n",
    "    for x in nums:\n",
    "        freq[x] = freq.get(x, 0) + 1\n",
    "    return freq\n",
    "\n",
    "print(count_freq(nums))  \n"
   ]
  },
  {
   "cell_type": "code",
   "execution_count": null,
   "id": "1d3bb301",
   "metadata": {},
   "outputs": [],
   "source": []
  }
 ],
 "metadata": {
  "kernelspec": {
   "display_name": "venv",
   "language": "python",
   "name": "python3"
  },
  "language_info": {
   "codemirror_mode": {
    "name": "ipython",
    "version": 3
   },
   "file_extension": ".py",
   "mimetype": "text/x-python",
   "name": "python",
   "nbconvert_exporter": "python",
   "pygments_lexer": "ipython3",
   "version": "3.13.7"
  }
 },
 "nbformat": 4,
 "nbformat_minor": 5
}
