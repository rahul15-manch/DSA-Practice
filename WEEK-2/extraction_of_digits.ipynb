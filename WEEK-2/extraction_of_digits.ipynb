{
 "cells": [
  {
   "cell_type": "markdown",
   "id": "48e46f9e",
   "metadata": {},
   "source": [
    "Extracting digits from a number"
   ]
  },
  {
   "cell_type": "code",
   "execution_count": 22,
   "id": "3fd9f8d3",
   "metadata": {},
   "outputs": [
    {
     "name": "stdout",
     "output_type": "stream",
     "text": [
      "5\n",
      "4\n",
      "3\n",
      "2\n",
      "1\n"
     ]
    }
   ],
   "source": [
    "\n",
    "def extract_digits(num):\n",
    "    while num>0:\n",
    "        digit=num%10\n",
    "        num=num//10\n",
    "        print(digit)\n",
    "extract_digits(12345)"
   ]
  },
  {
   "cell_type": "markdown",
   "id": "6d51420d",
   "metadata": {},
   "source": [
    " count digits in a number "
   ]
  },
  {
   "cell_type": "code",
   "execution_count": 23,
   "id": "d0bcc593",
   "metadata": {},
   "outputs": [
    {
     "name": "stdout",
     "output_type": "stream",
     "text": [
      "5\n"
     ]
    }
   ],
   "source": [
    "def count_digits(num):\n",
    "    count=0\n",
    "    while num>0:  \n",
    "        digit=num%10\n",
    "        count+=1\n",
    "        num=num//10\n",
    "    print(count)\n",
    "count_digits(12345)"
   ]
  },
  {
   "cell_type": "markdown",
   "id": "b3ef7b7b",
   "metadata": {},
   "source": [
    "Return Palindrome"
   ]
  },
  {
   "cell_type": "code",
   "execution_count": 32,
   "id": "816e3ea4",
   "metadata": {},
   "outputs": [
    {
     "name": "stdout",
     "output_type": "stream",
     "text": [
      "False\n",
      "True\n"
     ]
    }
   ],
   "source": [
    "def return_palindrome(num):\n",
    "    original = num\n",
    "    res = 0\n",
    "    while num > 0:\n",
    "        digit = num % 10\n",
    "        res = res * 10 + digit\n",
    "        num = num // 10\n",
    "    return res == original\n",
    "\n",
    "print(return_palindrome(123))  # False\n",
    "print(return_palindrome(121))  # True\n",
    "\n",
    "    \n",
    "\n",
    "\n",
    "\n"
   ]
  },
  {
   "cell_type": "markdown",
   "id": "e58bc93d",
   "metadata": {},
   "source": [
    "Armstrong\n",
    "\n",
    "153= 1^3 + 5^3 +3^3=1+125+27=153"
   ]
  },
  {
   "cell_type": "code",
   "execution_count": 37,
   "id": "637c55fd",
   "metadata": {},
   "outputs": [
    {
     "name": "stdout",
     "output_type": "stream",
     "text": [
      "True\n",
      "False\n"
     ]
    }
   ],
   "source": [
    "def armstrong(num):\n",
    "    n=len(str(num))\n",
    "    original=num\n",
    "    res=0\n",
    "    while num>0:\n",
    "        digit=num%10\n",
    "        num=num//10\n",
    "        res+= digit**n\n",
    "    return original==res\n",
    "\n",
    "print(armstrong(153))\n",
    "print(armstrong(121))\n"
   ]
  },
  {
   "cell_type": "markdown",
   "id": "750a88a6",
   "metadata": {},
   "source": [
    "print factors of a number"
   ]
  },
  {
   "cell_type": "code",
   "execution_count": 39,
   "id": "7023e841",
   "metadata": {},
   "outputs": [
    {
     "name": "stdout",
     "output_type": "stream",
     "text": [
      "1\n",
      "2\n",
      "5\n",
      "10\n"
     ]
    }
   ],
   "source": [
    "def print_factors(num):\n",
    "    for i in range(1,num+1):\n",
    "        if num%i==0:\n",
    "            print(i)\n",
    "print_factors(10)"
   ]
  },
  {
   "cell_type": "code",
   "execution_count": null,
   "id": "19deb8e2",
   "metadata": {},
   "outputs": [],
   "source": []
  }
 ],
 "metadata": {
  "kernelspec": {
   "display_name": "venv",
   "language": "python",
   "name": "python3"
  },
  "language_info": {
   "codemirror_mode": {
    "name": "ipython",
    "version": 3
   },
   "file_extension": ".py",
   "mimetype": "text/x-python",
   "name": "python",
   "nbconvert_exporter": "python",
   "pygments_lexer": "ipython3",
   "version": "3.13.7"
  }
 },
 "nbformat": 4,
 "nbformat_minor": 5
}
